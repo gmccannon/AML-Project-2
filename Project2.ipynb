{
 "cells": [
  {
   "cell_type": "code",
   "execution_count": 3,
   "metadata": {},
   "outputs": [],
   "source": [
    "# George McCannon\n",
    "# run command:$ jupyter nbconvert --to notebook --inplace --execute Project2.ipynb\n",
    "\n",
    "import pandas as pd\n",
    "import numpy as np\n",
    "\n",
    "from sklearn.ensemble import RandomForestClassifier\n",
    "from sklearn.ensemble import GradientBoostingClassifier\n",
    "from sklearn import svm\n",
    "\n",
    "from sklearn.datasets import make_classification\n",
    "from sklearn.model_selection import train_test_split\n",
    "from sklearn.pipeline import Pipeline\n",
    "from sklearn.impute import SimpleImputer\n",
    "from sklearn.preprocessing import StandardScaler"
   ]
  },
  {
   "cell_type": "code",
   "execution_count": 4,
   "metadata": {},
   "outputs": [],
   "source": [
    "# Define the preprocessing pipeline\n",
    "preprocessing_pipeline = Pipeline([\n",
    "    ('imputer', SimpleImputer(strategy='mean')),\n",
    "    ('scaler', StandardScaler())\n",
    "])\n",
    "\n",
    "# Define the RandomForestClassifier with tuned hyperparameters\n",
    "clf_rf = RandomForestClassifier(n_estimators=5000, max_depth=3, criterion='gini', min_samples_split=2, min_samples_leaf=2)\n",
    "\n",
    "# Define the Gradient Boosting model\n",
    "clf_gbt = GradientBoostingClassifier(\n",
    "    n_estimators=50,\n",
    "    learning_rate=0.05,\n",
    "    max_depth=2,\n",
    "    min_samples_split=5,\n",
    "    min_samples_leaf=2,\n",
    "    subsample=0.8,\n",
    "    verbose=0,\n",
    ")\n",
    "\n",
    "# define the SVM model; kernals could be: ‘linear’, ‘poly’, ‘rbf’, ‘sigmoid’, ‘precomputed’.              \n",
    "clf_svm = svm.SVC(kernel=\"rbf\", C=.5, probability=True)"
   ]
  },
  {
   "cell_type": "code",
   "execution_count": 10,
   "metadata": {},
   "outputs": [],
   "source": [
    "# Load dataset fortraining the mdoel\n",
    "input_df = pd.read_csv(\"NHANES_data_stroke_train.csv\")\n",
    "\n",
    "# Under sample the non-stroke\n",
    "# Due to the large number of MI_negative, drop any with missing values, MI_positive will be imputed later\n",
    "MI_positive = input_df[input_df['stroke'] == 1]\n",
    "MI_negative = input_df[input_df['stroke'] == 2]\n",
    "MI_negative = MI_negative.dropna()\n",
    "MI_negative = MI_negative.sample(n=len(MI_positive), replace=False)\n",
    "input_df = pd.concat([MI_positive, MI_negative])\n",
    "\n",
    "# define attributes\n",
    "# defaults: [\"Income\",\"Sex\",\"Age\",\"Race\",\"Edu\",\"Diastolic\",\"Systolic\",\"Pulse\",\"BMI\",\"HDL\",\"Trig\",\"LDL\",\"TCHOL\",\"kidneys_eGFR\",\"Diabetes\",\"CurrentSmoker\",\"isActive\",\"isInsured\"]\n",
    "featurenames = [\"Income\",\"Age\",\"Race\",\"Diastolic\",\"Systolic\",\"Pulse\",\"BMI\",\"HDL\",\"Trig\",\"LDL\",\"TCHOL\",\"kidneys_eGFR\",\"Diabetes\"]\n",
    "X = input_df[featurenames]\n",
    "y = input_df[\"stroke\"]\n",
    "\n",
    "# impute and scale the data\n",
    "X = preprocessing_pipeline.fit_transform(X)\n",
    "\n",
    "# split data into training and testing sets\n",
    "X_train, X_test, y_train, y_test = train_test_split(X, y, stratify=y)"
   ]
  },
  {
   "cell_type": "code",
   "execution_count": 11,
   "metadata": {},
   "outputs": [],
   "source": [
    "# load the data set to make the predictions on\n",
    "new_data = pd.read_csv(\"NHANES_data_stroke_test4Students.csv\")\n",
    "\n",
    "# No stroke column so get rid of it\n",
    "new_data = new_data.drop(columns=['stroke'])\n",
    "\n",
    "# get attributes\n",
    "X_new = new_data[featurenames]\n",
    "\n",
    "# imputer\n",
    "X_new = preprocessing_pipeline.fit_transform(X_new)"
   ]
  },
  {
   "cell_type": "code",
   "execution_count": 12,
   "metadata": {},
   "outputs": [
    {
     "name": "stdout",
     "output_type": "stream",
     "text": [
      "Accuracy for training: 83.66336633663366\n",
      "Accuracy for testing: 79.41176470588235\n"
     ]
    }
   ],
   "source": [
    "# Random Forest Model\n",
    "# train the model\n",
    "clf_rf.fit(X_train, y_train)\n",
    "\n",
    "# display accuracy information\n",
    "print(\"Accuracy for training:\", clf_rf.score(X_train, y_train)*100)\n",
    "print(\"Accuracy for testing:\", clf_rf.score(X_test, y_test)*100)\n",
    "\n",
    "# Make predictions on the new data, run model\n",
    "new_probabilities = clf_rf.predict_proba(X_new)[:, 0]  # for output\n",
    "new_predictions = clf_rf.predict(X_new) # unsed, just for testing ratio of MI/noMI\n",
    "\n",
    "# Get each sample's ID and write probabilities to the output CSV\n",
    "new_participant_ids = new_data['ParticipantID']\n",
    "new_output_df = pd.DataFrame({'ParticipantID': new_participant_ids, 'Pred_Probability': new_probabilities})\n",
    "new_output_df.to_csv('RFpred.csv', index=False)"
   ]
  },
  {
   "cell_type": "code",
   "execution_count": 13,
   "metadata": {},
   "outputs": [
    {
     "name": "stdout",
     "output_type": "stream",
     "text": [
      "Accuracy for training: 84.65346534653465\n",
      "Accuracy for testing: 79.41176470588235\n"
     ]
    }
   ],
   "source": [
    "# Graident Boosted Trees Model\n",
    "# train the model\n",
    "clf_gbt.fit(X_train, y_train)\n",
    "\n",
    "# display accuracy information\n",
    "print(\"Accuracy for training:\", clf_gbt.score(X_train, y_train)*100)\n",
    "print(\"Accuracy for testing:\", clf_gbt.score(X_test, y_test)*100)\n",
    "\n",
    "# Make predictions on the new data, run model\n",
    "new_probabilities = clf_gbt.predict_proba(X_new)[:, 0]  # for output\n",
    "new_predictions = clf_gbt.predict(X_new) # unsed, just for testing ratio of MI/noMI\n",
    "\n",
    "# Get each sample's ID and write probabilities to the output CSV\n",
    "new_participant_ids = new_data['ParticipantID']\n",
    "new_output_df = pd.DataFrame({'ParticipantID': new_participant_ids, 'Pred_Probability': new_probabilities})\n",
    "new_output_df.to_csv('GBTpred.csv', index=False)"
   ]
  },
  {
   "cell_type": "code",
   "execution_count": 14,
   "metadata": {},
   "outputs": [
    {
     "name": "stdout",
     "output_type": "stream",
     "text": [
      "Accuracy for training: 82.67326732673267\n",
      "Accuracy for testing: 80.88235294117648\n"
     ]
    }
   ],
   "source": [
    "# Graident Boosted Trees Model\n",
    "# train the model\n",
    "clf_svm.fit(X_train, y_train)\n",
    "\n",
    "# display accuracy information\n",
    "print(\"Accuracy for training:\", clf_svm.score(X_train, y_train)*100)\n",
    "print(\"Accuracy for testing:\", clf_svm.score(X_test, y_test)*100)\n",
    "\n",
    "# Make predictions on the new data, run model\n",
    "new_probabilities = clf_svm.predict_proba(X_new)[:, 0]  # for output\n",
    "new_predictions = clf_svm.predict(X_new) # unsed, just for testing ratio of MI/noMI\n",
    "\n",
    "# Get each sample's ID and write probabilities to the output CSV\n",
    "new_participant_ids = new_data['ParticipantID']\n",
    "new_output_df = pd.DataFrame({'ParticipantID': new_participant_ids, 'Pred_Probability': new_probabilities})\n",
    "new_output_df.to_csv('SVMpred.csv', index=False)"
   ]
  }
 ],
 "metadata": {
  "kernelspec": {
   "display_name": "Python 3",
   "language": "python",
   "name": "python3"
  },
  "language_info": {
   "codemirror_mode": {
    "name": "ipython",
    "version": 3
   },
   "file_extension": ".py",
   "mimetype": "text/x-python",
   "name": "python",
   "nbconvert_exporter": "python",
   "pygments_lexer": "ipython3",
   "version": "3.10.12"
  }
 },
 "nbformat": 4,
 "nbformat_minor": 2
}
